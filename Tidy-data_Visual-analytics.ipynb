{
 "cells": [
  {
   "cell_type": "markdown",
   "id": "b1ef94d0-9dc3-4731-9a42-451bff7aa8cc",
   "metadata": {},
   "source": [
    "# Advanced visual analytics - Compulsury task #"
   ]
  },
  {
   "cell_type": "markdown",
   "id": "4d4af592-595d-48f3-aa35-819a91c8d64d",
   "metadata": {},
   "source": [
    "1. Question 1: Download data (Travel Data)Lenker til en ekstern side. : The data contains monthly passenger movement data between January 1990 and April 2004 in USA. Merge the data into one data source, plot simple graphs and compare the travel patterns between automobile, train and Air travel. Hint: Look at September 11 terrorist attack.\n",
    "2. Question 2: Download data (WHO_Tuberculosis_data)Lenker til en ekstern side. : The data contains WHO data on Tuberculosis across the world. Merge the data (before and after year 2000) and convert it into a tidy data format. Shortly report your findings on Afghanistan, Norway and India.\n",
    "3. Question 3: Download data (Weather Data)Lenker til en ekstern side. : The data contains temperature measured on certain days of the month. Convert the data into a tidy data format, plot simple graphs and discuss monthly patterns. Make suitable assumptions."
   ]
  },
  {
   "cell_type": "markdown",
   "id": "e69fcffe-42e8-4b1e-8df2-295a0ed00bb7",
   "metadata": {},
   "source": [
    "imports"
   ]
  },
  {
   "cell_type": "code",
   "execution_count": 53,
   "id": "deb28eaa-42e7-40b4-bacc-a1e3885d2d79",
   "metadata": {},
   "outputs": [],
   "source": [
    "import pandas as pd\n",
    "import numpy as np\n",
    "import os\n",
    "import seaborn as sns\n",
    "import matplotlib.pyplot as plt\n",
    "sns.set_palette('bright')\n",
    "from statsmodels.tsa.arima.model import ARIMA\n",
    "from statsmodels.graphics.tsaplots import plot_acf, plot_pacf\n",
    "from statsmodels.tsa.stattools import adfuller\n",
    "import statsmodels.api as sm"
   ]
  },
  {
   "cell_type": "markdown",
   "id": "44a3e57b-0f5e-47b9-b711-208933b9dd12",
   "metadata": {},
   "source": [
    "## Question 1: travel data ##"
   ]
  },
  {
   "cell_type": "markdown",
   "id": "ef1625e1-4c94-49d4-9630-a4bc0d221776",
   "metadata": {},
   "source": [
    "Definitions:\n",
    "- Air RPM; actual airline revenue passenger miles (Air), \n",
    "- Rail PM; rail passenger miles (Rail), and \n",
    "- VMT; vehicle miles traveled (Auto)."
   ]
  },
  {
   "cell_type": "markdown",
   "id": "5cbc967d-8760-40b7-8c43-8e94c90599c1",
   "metadata": {},
   "source": [
    "Load data:"
   ]
  },
  {
   "cell_type": "code",
   "execution_count": 54,
   "id": "8f8b54c7-ab51-4781-8a86-dcd120416cf2",
   "metadata": {
    "scrolled": true
   },
   "outputs": [],
   "source": [
    "# Set directory\n",
    "os.chdir(r\"C:\\Users\\tgsog\\OneDrive\\Desktop\\Visual Analytics\\Class exercise 28.10.2024 due\")\n",
    "\n",
    "# Paths to the files\n",
    "path_AirTravel_USA =\"C:\\\\Users\\\\tgsog\\\\OneDrive\\\\Desktop\\\\Visual Analytics\\\\Class exercise 28.10.2024 due\\\\Task 1\\\\AirTravel_USA.csv\"\n",
    "path_Auto_vehicle_miles_traveled_USA = \"C:\\\\Users\\\\tgsog\\\\OneDrive\\\\Desktop\\\\Visual Analytics\\\\Class exercise 28.10.2024 due\\\\Task 1\\\\Auto_vehicle_miles_traveled_USA.csv\"\n",
    "path_TrainTravel_USA = \"C:\\\\Users\\\\tgsog\\\\OneDrive\\\\Desktop\\\\Visual Analytics\\\\Class exercise 28.10.2024 due\\\\Task 1\\\\TrainTravel_USA.csv\"\n",
    "\n",
    "# Read the CSV files\n",
    "df_air = pd.read_csv(path_AirTravel_USA, sep = \";\")\n",
    "df_auto = pd.read_csv(path_Auto_vehicle_miles_traveled_USA)\n",
    "df_train = pd.read_csv(path_TrainTravel_USA)"
   ]
  },
  {
   "cell_type": "code",
   "execution_count": 55,
   "id": "a9fb78fa-3c9b-4313-85c7-8c19b142cffe",
   "metadata": {},
   "outputs": [
    {
     "data": {
      "text/html": [
       "<div>\n",
       "<style scoped>\n",
       "    .dataframe tbody tr th:only-of-type {\n",
       "        vertical-align: middle;\n",
       "    }\n",
       "\n",
       "    .dataframe tbody tr th {\n",
       "        vertical-align: top;\n",
       "    }\n",
       "\n",
       "    .dataframe thead th {\n",
       "        text-align: right;\n",
       "    }\n",
       "</style>\n",
       "<table border=\"1\" class=\"dataframe\">\n",
       "  <thead>\n",
       "    <tr style=\"text-align: right;\">\n",
       "      <th></th>\n",
       "      <th>Month</th>\n",
       "      <th>Year</th>\n",
       "      <th>Rail PM</th>\n",
       "    </tr>\n",
       "  </thead>\n",
       "  <tbody>\n",
       "    <tr>\n",
       "      <th>0</th>\n",
       "      <td>1</td>\n",
       "      <td>1990</td>\n",
       "      <td>454115779</td>\n",
       "    </tr>\n",
       "    <tr>\n",
       "      <th>1</th>\n",
       "      <td>2</td>\n",
       "      <td>1990</td>\n",
       "      <td>435086002</td>\n",
       "    </tr>\n",
       "    <tr>\n",
       "      <th>2</th>\n",
       "      <td>3</td>\n",
       "      <td>1990</td>\n",
       "      <td>568289732</td>\n",
       "    </tr>\n",
       "    <tr>\n",
       "      <th>3</th>\n",
       "      <td>4</td>\n",
       "      <td>1990</td>\n",
       "      <td>568101697</td>\n",
       "    </tr>\n",
       "    <tr>\n",
       "      <th>4</th>\n",
       "      <td>5</td>\n",
       "      <td>1990</td>\n",
       "      <td>539628385</td>\n",
       "    </tr>\n",
       "    <tr>\n",
       "      <th>...</th>\n",
       "      <td>...</td>\n",
       "      <td>...</td>\n",
       "      <td>...</td>\n",
       "    </tr>\n",
       "    <tr>\n",
       "      <th>167</th>\n",
       "      <td>12</td>\n",
       "      <td>2003</td>\n",
       "      <td>489403554</td>\n",
       "    </tr>\n",
       "    <tr>\n",
       "      <th>168</th>\n",
       "      <td>1</td>\n",
       "      <td>2004</td>\n",
       "      <td>410338691</td>\n",
       "    </tr>\n",
       "    <tr>\n",
       "      <th>169</th>\n",
       "      <td>2</td>\n",
       "      <td>2004</td>\n",
       "      <td>389778365</td>\n",
       "    </tr>\n",
       "    <tr>\n",
       "      <th>170</th>\n",
       "      <td>3</td>\n",
       "      <td>2004</td>\n",
       "      <td>453014590</td>\n",
       "    </tr>\n",
       "    <tr>\n",
       "      <th>171</th>\n",
       "      <td>4</td>\n",
       "      <td>2004</td>\n",
       "      <td>471116666</td>\n",
       "    </tr>\n",
       "  </tbody>\n",
       "</table>\n",
       "<p>172 rows × 3 columns</p>\n",
       "</div>"
      ],
      "text/plain": [
       "     Month  Year    Rail PM\n",
       "0        1  1990  454115779\n",
       "1        2  1990  435086002\n",
       "2        3  1990  568289732\n",
       "3        4  1990  568101697\n",
       "4        5  1990  539628385\n",
       "..     ...   ...        ...\n",
       "167     12  2003  489403554\n",
       "168      1  2004  410338691\n",
       "169      2  2004  389778365\n",
       "170      3  2004  453014590\n",
       "171      4  2004  471116666\n",
       "\n",
       "[172 rows x 3 columns]"
      ]
     },
     "execution_count": 55,
     "metadata": {},
     "output_type": "execute_result"
    }
   ],
   "source": [
    "df_train"
   ]
  },
  {
   "cell_type": "markdown",
   "id": "512bd2c2-3f0a-4ddc-af86-09c84a2ef8a8",
   "metadata": {},
   "source": [
    "## Steps to clean data: ##"
   ]
  },
  {
   "cell_type": "markdown",
   "id": "7994900d-bda1-4b49-8a3b-c3e4e5ef1d2a",
   "metadata": {},
   "source": [
    "1. Converting all values to complete numbers"
   ]
  },
  {
   "cell_type": "code",
   "execution_count": 56,
   "id": "aafae747-180e-4959-83f3-0ab8999ad45a",
   "metadata": {
    "scrolled": true
   },
   "outputs": [],
   "source": [
    "#Converting all miles to the same level\n",
    "df_auto[\"auto_miles\"]=df_auto[\"VMT (billions)\"]*1000000000 #in billions, one billion has 6 0s\n",
    "df_air[\"air_miles\"] = df_air[\"Air RPM (000s)\"]*1000 #in thousands = 1000\n",
    "df_train[\"rail_miles\"] = df_train[\"Rail PM\"] #no additional mile difference"
   ]
  },
  {
   "cell_type": "markdown",
   "id": "724b0e9f-0d87-4f32-8762-b4a4a9f9dc9c",
   "metadata": {},
   "source": [
    "2. Create a new dataframe for the differen modes of transportation"
   ]
  },
  {
   "cell_type": "code",
   "execution_count": 57,
   "id": "a36a5ec4-f07b-44cd-b5d5-83784aeba505",
   "metadata": {},
   "outputs": [],
   "source": [
    "df = pd.DataFrame({\"Month\":df_auto.Month,\n",
    "                   \"auto_miles\":df_auto[\"auto_miles\"],\n",
    "                   \"air_miles\":df_air[\"air_miles\"],\n",
    "                   \"rail_miles\":df_train[\"rail_miles\"],\n",
    "                   \"Year\":df_air.Year\n",
    "                  })"
   ]
  },
  {
   "cell_type": "markdown",
   "id": "d4dd7ec6-519d-4c5e-ae2b-c9c27f5ab4d4",
   "metadata": {},
   "source": [
    "3. Set to datetimeformat"
   ]
  },
  {
   "cell_type": "code",
   "execution_count": 58,
   "id": "0f0a7778-5db5-44c3-a9fe-3f0a653a1025",
   "metadata": {},
   "outputs": [],
   "source": [
    "auto_date = pd.to_datetime(df_auto.Month, format = '%b-%y')\n",
    "df_auto[\"month\"]=auto_date.dt.month\n",
    "df_auto[\"year\"] = auto_date.dt.year"
   ]
  },
  {
   "cell_type": "markdown",
   "id": "8145f27a-c580-4657-9625-fe66a09666b2",
   "metadata": {},
   "source": [
    "4. Checking that the dataset dates are the same"
   ]
  },
  {
   "cell_type": "code",
   "execution_count": 59,
   "id": "3f0694d2-a6e0-4b79-8ba5-aeb8809ea391",
   "metadata": {},
   "outputs": [
    {
     "data": {
      "text/plain": [
       "0"
      ]
     },
     "execution_count": 59,
     "metadata": {},
     "output_type": "execute_result"
    }
   ],
   "source": [
    "#auto months - train months = 0 = no distortion\n",
    "sum(abs(df_auto.month-df_train.Month))"
   ]
  },
  {
   "cell_type": "code",
   "execution_count": 60,
   "id": "2020f0aa-1520-492c-9131-b5126ffe279c",
   "metadata": {
    "scrolled": true
   },
   "outputs": [
    {
     "data": {
      "text/plain": [
       "0"
      ]
     },
     "execution_count": 60,
     "metadata": {},
     "output_type": "execute_result"
    }
   ],
   "source": [
    "#auto month- train month = 0 = no distortion\n",
    "sum(abs(df_auto.month - df_train.Month))"
   ]
  },
  {
   "cell_type": "code",
   "execution_count": 61,
   "id": "294e6edc-a3cc-42f9-a227-2e9bf65549c4",
   "metadata": {},
   "outputs": [
    {
     "data": {
      "text/plain": [
       "0"
      ]
     },
     "execution_count": 61,
     "metadata": {},
     "output_type": "execute_result"
    }
   ],
   "source": [
    "sum(abs(df_auto.year -df_train.Year))"
   ]
  },
  {
   "cell_type": "markdown",
   "id": "6fce7278-8d58-428c-82a8-8a408cc2fb09",
   "metadata": {},
   "source": [
    "nas"
   ]
  },
  {
   "cell_type": "markdown",
   "id": "4054ad8f-b150-4715-9ff7-ad86c8428907",
   "metadata": {},
   "source": [
    "### Writing data to travel.csv ###"
   ]
  },
  {
   "cell_type": "code",
   "execution_count": 62,
   "id": "49006ee5-e6b9-4256-9201-ce50c60b84dd",
   "metadata": {},
   "outputs": [],
   "source": [
    "df.to_csv(\"C:\\\\Users\\\\tgsog\\\\OneDrive\\\\Desktop\\\\Visual Analytics\\\\Class exercise 28.10.2024 due\\\\Task 1\\\\output data after cleaning\\\\travel.csv\", index=False)"
   ]
  },
  {
   "cell_type": "markdown",
   "id": "5cd854c8-544a-446f-8f3a-60278b4418af",
   "metadata": {},
   "source": [
    "## Comments on the data ##"
   ]
  },
  {
   "cell_type": "markdown",
   "id": "4da9c524-82ba-4a01-9b43-278713edeed8",
   "metadata": {},
   "source": [
    "- The year 2004 only has the four first months. Therefore, any sum aggregation of a year will be wrong since it is not adjusted for the number of months, such as an average aggregation.\n",
    "- In time series data, some components are interesting to view\n",
    "  1. The trendline x\n",
    "  2. Cyclicality\n",
    "  3. seasonality  (average of each month)\n",
    "  4. Base mean level for the series x\n",
    "  5. noise - not explained by seasonality and cycles\n",
    "  6. Events - interventions or shocks (find some test)\n",
    "  7. autocorrelationm  (below x)\n",
    "  8. growth rate (growth from month to month, year to year, and the compounded annual growth rate)\n",
    "  9. volatility or (heteroscedasticity) (x)\n",
    "- "
   ]
  },
  {
   "cell_type": "code",
   "execution_count": 63,
   "id": "15eda0c1-e6fd-42ba-813d-89c64240b1c8",
   "metadata": {},
   "outputs": [],
   "source": [
    "df['growth_auto'] = df.auto_miles.pct_change() * 100\n",
    "df['growth_air'] = df.air_miles.pct_change() * 100\n",
    "df['growth_rail'] = df.rail_miles.pct_change() * 100"
   ]
  },
  {
   "cell_type": "code",
   "execution_count": 64,
   "id": "8d42ebb3-375c-4727-b7ab-6994817e6802",
   "metadata": {
    "scrolled": true
   },
   "outputs": [
    {
     "data": {
      "image/png": "[encoded data removed]",
      "text/plain": [
       "<Figure size 1000x600 with 1 Axes>"
      ]
     },
     "metadata": {},
     "output_type": "display_data"
    }
   ],
   "source": [
    "plt.figure(figsize=(10, 6))\n",
    "plt.plot(df.index, df.growth_auto, marker='o', linestyle='-', color='b')\n",
    "\n",
    "plt.title('Growth Rate Over Time')\n",
    "plt.xlabel('Date')\n",
    "plt.ylabel('Growth Rate (%)')\n",
    "plt.grid(True)\n",
    "plt.show()"
   ]
  },
  {
   "cell_type": "code",
   "execution_count": 65,
   "id": "55f2110e-9dac-47d5-bf75-d4fc3ccc18cd",
   "metadata": {},
   "outputs": [
    {
     "data": {
      "text/plain": [
       "[<matplotlib.lines.Line2D at 0x19811c64a10>]"
      ]
     },
     "execution_count": 65,
     "metadata": {},
     "output_type": "execute_result"
    },
    {
     "data": {
      "image/png": "[encoded data removed]",
      "text/plain": [
       "<Figure size 640x480 with 1 Axes>"
      ]
     },
     "metadata": {},
     "output_type": "display_data"
    }
   ],
   "source": [
    "plt.plot(df.index, df.growth_air, marker='o', linestyle='-', color='b')\n",
    "plt.plot(df.index, df.growth_rail, marker='o', linestyle='-', color='b')"
   ]
  },
  {
   "cell_type": "code",
   "execution_count": 66,
   "id": "9415a036-f772-4c86-967c-541fe7c89cf3",
   "metadata": {
    "scrolled": true
   },
   "outputs": [
    {
     "data": {
      "image/png": "[encoded data removed]",
      "text/plain": [
       "<Figure size 640x480 with 1 Axes>"
      ]
     },
     "metadata": {},
     "output_type": "display_data"
    },
    {
     "data": {
      "image/png": "[encoded data removed]",
      "text/plain": [
       "<Figure size 640x480 with 1 Axes>"
      ]
     },
     "metadata": {},
     "output_type": "display_data"
    },
    {
     "data": {
      "image/png": "[encoded data removed]",
      "text/plain": [
       "<Figure size 640x480 with 1 Axes>"
      ]
     },
     "metadata": {},
     "output_type": "display_data"
    }
   ],
   "source": [
    "import numpy as np\n",
    "import matplotlib.pyplot as plt\n",
    "from statsmodels.graphics.tsaplots import plot_acf\n",
    "plot_acf(df.auto_miles, lags=30)  # lags=30 means we look at up to 30 time lags\n",
    "plot_acf(df.air_miles, lags=30)\n",
    "plot_acf(df.rail_miles, lags=30)\n",
    "plt.show()"
   ]
  },
  {
   "cell_type": "markdown",
   "id": "b6f71aa2-eea1-45d7-8e96-0b918d4a277a",
   "metadata": {},
   "source": [
    "## Question 2: Health data ##"
   ]
  },
  {
   "cell_type": "markdown",
   "id": "a26d03ed-a8b7-4398-9565-47f9ef4769b9",
   "metadata": {},
   "source": [
    "Loading data:"
   ]
  },
  {
   "cell_type": "code",
   "execution_count": 67,
   "id": "5cad23b9-fdd5-4fea-8f1d-99e4bbc1f04b",
   "metadata": {
    "scrolled": true
   },
   "outputs": [],
   "source": [
    "path_master=\"C:\\\\Users\\\\tgsog\\\\OneDrive\\\\Desktop\\\\Visual Analytics\\\\Class exercise 28.10.2024 due\\\\Task 2\\\\Country_Master_Data.csv\"\n",
    "path_a2k=\"C:\\\\Users\\\\tgsog\\\\OneDrive\\\\Desktop\\\\Visual Analytics\\\\Class exercise 28.10.2024 due\\\\Task 2\\\\Data_after_2000.csv\"\n",
    "path_b2k=\"C:\\\\Users\\\\tgsog\\\\OneDrive\\\\Desktop\\\\Visual Analytics\\\\Class exercise 28.10.2024 due\\\\Task 2\\\\Data_before_2000.csv\"\n",
    "path_def =\"C:\\\\Users\\\\tgsog\\\\OneDrive\\\\Desktop\\\\Visual Analytics\\\\Class exercise 28.10.2024 due\\\\Task 2\\\\Defintions variables.csv\"\n",
    "df_mast = pd.read_csv(path_master)\n",
    "df_a2k=pd.read_csv(path_a2k)\n",
    "df_b2k=pd.read_csv(path_b2k,low_memory = False)\n",
    "df_def=pd.read_csv(path_def) #the definitions are only needed to understand the diseases but not to merge/join the tables."
   ]
  },
  {
   "cell_type": "code",
   "execution_count": 68,
   "id": "f835e3b0-cfc7-493a-ab64-d2d8e9d09e35",
   "metadata": {},
   "outputs": [
    {
     "name": "stdout",
     "output_type": "stream",
     "text": [
      "  iso2 iso3    year  new_sp_m014  new_sp_m1524  new_sp_m2534  new_sp_m3544  \\\n",
      "0   AF  AFG  1980.0          NaN           NaN           NaN           NaN   \n",
      "1   AF  AFG  1981.0          NaN           NaN           NaN           NaN   \n",
      "2   AF  AFG  1982.0          NaN           NaN           NaN           NaN   \n",
      "\n",
      "   new_sp_m4554  new_sp_m5564  new_sp_m65  ...  newrel_m4554  newrel_m5564  \\\n",
      "0           NaN           NaN         NaN  ...           NaN           NaN   \n",
      "1           NaN           NaN         NaN  ...           NaN           NaN   \n",
      "2           NaN           NaN         NaN  ...           NaN           NaN   \n",
      "\n",
      "   newrel_m65  newrel_f014  newrel_f1524  newrel_f2534  newrel_f3544  \\\n",
      "0         NaN          NaN           NaN           NaN           NaN   \n",
      "1         NaN          NaN           NaN           NaN           NaN   \n",
      "2         NaN          NaN           NaN           NaN           NaN   \n",
      "\n",
      "   newrel_f4554  newrel_f5564  newrel_f65  \n",
      "0           NaN           NaN         NaN  \n",
      "1           NaN           NaN         NaN  \n",
      "2           NaN           NaN         NaN  \n",
      "\n",
      "[3 rows x 59 columns]   iso2 iso3  year  new_sp_m014  new_sp_m1524  new_sp_m2534  new_sp_m3544  \\\n",
      "0   AF  AFG  2000         52.0         228.0         183.0         149.0   \n",
      "1   AF  AFG  2001        129.0         379.0         349.0         274.0   \n",
      "2   AF  AFG  2002         90.0         476.0         481.0         368.0   \n",
      "\n",
      "   new_sp_m4554  new_sp_m5564  new_sp_m65  ...  newrel_m4554  newrel_m5564  \\\n",
      "0         129.0          94.0        80.0  ...           NaN           NaN   \n",
      "1         204.0         139.0       103.0  ...           NaN           NaN   \n",
      "2         246.0         241.0       189.0  ...           NaN           NaN   \n",
      "\n",
      "   newrel_m65  newrel_f014  newrel_f1524  newrel_f2534  newrel_f3544  \\\n",
      "0         NaN          NaN           NaN           NaN           NaN   \n",
      "1         NaN          NaN           NaN           NaN           NaN   \n",
      "2         NaN          NaN           NaN           NaN           NaN   \n",
      "\n",
      "   newrel_f4554  newrel_f5564  newrel_f65  \n",
      "0           NaN           NaN         NaN  \n",
      "1           NaN           NaN         NaN  \n",
      "2           NaN           NaN         NaN  \n",
      "\n",
      "[3 rows x 59 columns]        country iso2 iso3\n",
      "0  Afghanistan   AF  AFG\n",
      "1      Albania   AL  ALB\n",
      "2      Algeria   DZ  DZA   variable_name                              definition\n",
      "0       country               Country or territory name\n",
      "1          iso2  ISO 2-character country/territory code\n",
      "2          iso3  ISO 3-character country/territory code\n"
     ]
    }
   ],
   "source": [
    "print(df_b2k.head(3),\n",
    "df_a2k.head(3),\n",
    "df_mast.head(3),\n",
    "df_def.head(3))"
   ]
  },
  {
   "cell_type": "markdown",
   "id": "2cdda272-5473-4d69-bdfc-6f85c921cdb6",
   "metadata": {},
   "source": [
    "## Steps to clean data ##"
   ]
  },
  {
   "cell_type": "markdown",
   "id": "f76674f7-58cf-4f82-9be2-88b2d424c6ca",
   "metadata": {},
   "source": [
    "Steps to create and merge table: \n",
    "Order of opperations - filter out all values not needed as fast as possible\n",
    "1. Inspect datatypes\n",
    "2. Fill or remove NA or 0\n",
    "3. inspect unique values\n",
    "4. melt data\n",
    "5. Separating disease from, genderAge\n",
    "6. Separating gender and age\n",
    "7. drop columns\n",
    "8. Add binary for before and after\n",
    "9. Union the before and after\n",
    "10. join on master file\n",
    "11. creating categorical for age groups (25-35 > 0-14)"
   ]
  },
  {
   "cell_type": "markdown",
   "id": "6a7d8682-cbde-4564-9823-462b449457ed",
   "metadata": {},
   "source": [
    "1. Inspecting datatypes"
   ]
  },
  {
   "cell_type": "code",
   "execution_count": 69,
   "id": "0e011ee0-564c-4dfe-b4dd-7b8a95d24f2c",
   "metadata": {
    "scrolled": true
   },
   "outputs": [
    {
     "data": {
      "text/plain": [
       "iso2             object\n",
       "iso3             object\n",
       "year              int64\n",
       "new_sp_m014     float64\n",
       "new_sp_m1524    float64\n",
       "dtype: object"
      ]
     },
     "execution_count": 69,
     "metadata": {},
     "output_type": "execute_result"
    }
   ],
   "source": [
    "df_a2k.dtypes.head(5) #datatypes are ok"
   ]
  },
  {
   "cell_type": "code",
   "execution_count": 70,
   "id": "1d269e57-d807-4ee5-a14b-cf0db3e8a88b",
   "metadata": {
    "scrolled": true
   },
   "outputs": [
    {
     "data": {
      "text/plain": [
       "iso2             object\n",
       "iso3             object\n",
       "year            float64\n",
       "new_sp_m014     float64\n",
       "new_sp_m1524    float64\n",
       "dtype: object"
      ]
     },
     "execution_count": 70,
     "metadata": {},
     "output_type": "execute_result"
    }
   ],
   "source": [
    "df_b2k.dtypes.head(5) # year is a float not an integer"
   ]
  },
  {
   "cell_type": "markdown",
   "id": "33e423a3-39da-4db3-a5c1-be7ad6efc79d",
   "metadata": {},
   "source": [
    "2: filling na, and removing year values with NA or 0"
   ]
  },
  {
   "cell_type": "code",
   "execution_count": 71,
   "id": "7fd7374d-6f45-464b-bd92-ac8b3bdd4e8f",
   "metadata": {},
   "outputs": [],
   "source": [
    "#replacing and filling in year values\n",
    "df_a2k.year=df_a2k.year.replace(\"nan\",0)\n",
    "df_a2k.year = df_a2k.year.fillna(0)\n",
    "\n",
    "df_b2k.year =df_b2k.year.replace(\"nan\",0)\n",
    "df_b2k.year =df_b2k.year.fillna(0)"
   ]
  },
  {
   "cell_type": "code",
   "execution_count": 72,
   "id": "da35e0bb-8380-419c-9d08-4bbccd2f1031",
   "metadata": {},
   "outputs": [
    {
     "name": "stdout",
     "output_type": "stream",
     "text": [
      "[2000 2001 2002 2003 2004 2005 2006 2007 2008 2009 2010 2011 2012 2013] [1980. 1981. 1982. 1983. 1984. 1985. 1986. 1987. 1988. 1989. 1990. 1991.\n",
      " 1992. 1993. 1994. 1995. 1996. 1997. 1998. 1999. 2000.    0.]\n",
      "There are no na in years values\n"
     ]
    }
   ],
   "source": [
    "#Displaying all the different unique values, to see if there are any na values\n",
    "print(df_a2k.year.unique(),df_b2k.year.unique()) #\n",
    "print(\"There are no na in years values\")"
   ]
  },
  {
   "cell_type": "markdown",
   "id": "85dfcb89-cba8-452a-9a8b-6d88de92184c",
   "metadata": {},
   "source": [
    "Removing rows with 0 as year"
   ]
  },
  {
   "cell_type": "code",
   "execution_count": 73,
   "id": "efd82e05-226f-4b2d-b502-f02c3d93a51d",
   "metadata": {},
   "outputs": [
    {
     "name": "stdout",
     "output_type": "stream",
     "text": [
      "All rows with year = 0 are sliced away\n"
     ]
    }
   ],
   "source": [
    "df_a2k = df_a2k[df_a2k.year !=0]\n",
    "df_b2k = df_b2k[df_b2k.year !=0]\n",
    "print(\"All rows with year = 0 are sliced away\")"
   ]
  },
  {
   "cell_type": "code",
   "execution_count": 74,
   "id": "bf6c4ead-a92d-45bf-a68f-a67315b82cd4",
   "metadata": {
    "scrolled": true
   },
   "outputs": [
    {
     "name": "stdout",
     "output_type": "stream",
     "text": [
      "int32 int32\n",
      "year dtypes are both int32\n"
     ]
    }
   ],
   "source": [
    "df_a2k.year =df_a2k.year.astype(int) \n",
    "df_b2k.year =df_b2k.year.astype(int) \n",
    "print(df_a2k.year.dtypes, df_b2k.year.dtypes)\n",
    "print(\"year dtypes are both int32\")"
   ]
  },
  {
   "cell_type": "markdown",
   "id": "955876c8-b0cd-476c-b236-2ce03554a427",
   "metadata": {},
   "source": [
    "3. Inspect all unique values"
   ]
  },
  {
   "cell_type": "code",
   "execution_count": 75,
   "id": "8984a1f1-b7a4-46ec-aa8f-95705875f35d",
   "metadata": {},
   "outputs": [],
   "source": [
    "a2k_unique ={}\n",
    "for x in df_a2k.columns:\n",
    "    a2k_unique.update({x:df_a2k[x].unique()})\n",
    "b2k_unique ={}\n",
    "for x in df_b2k.columns:\n",
    "    b2k_unique.update({x:df_b2k[x].unique()})"
   ]
  },
  {
   "cell_type": "markdown",
   "id": "7811bbc1-680e-4ce3-aaa1-b6376f4ed42f",
   "metadata": {},
   "source": [
    "4. melting into tidy format"
   ]
  },
  {
   "cell_type": "code",
   "execution_count": 76,
   "id": "7f71d2a8-de11-4638-a116-6d02505898f8",
   "metadata": {},
   "outputs": [],
   "source": [
    "a2k = pd.melt(df_a2k, id_vars=[\"iso2\",\"iso3\",\"year\"], value_vars=df_a2k.columns[3:], var_name=\"disease\", value_name=\"value\")\n",
    "b2k = pd.melt(df_b2k, id_vars=[\"iso2\",\"iso3\",\"year\"], value_vars=df_b2k.columns[3:], var_name=\"disease\", value_name=\"value\")"
   ]
  },
  {
   "cell_type": "markdown",
   "id": "44b9b3a1-1f34-4e7c-9b73-5daa5482b6e1",
   "metadata": {
    "scrolled": true
   },
   "source": [
    "5. Separating columns based on rightmost \"_\":"
   ]
  },
  {
   "cell_type": "code",
   "execution_count": 77,
   "id": "d47c1578-93e6-4695-9743-ce24458b556e",
   "metadata": {},
   "outputs": [],
   "source": [
    "a2k[['disease_type', 'gender_age']] = a2k['disease'].str.rsplit('_', n=1, expand=True)\n",
    "b2k[['disease_type', 'gender_age']] = b2k['disease'].str.rsplit('_', n=1, expand=True)"
   ]
  },
  {
   "cell_type": "markdown",
   "id": "e3dd9212-9d5b-4813-8590-5dcfc2987f01",
   "metadata": {},
   "source": [
    "6. Separating gender_age on the first letter"
   ]
  },
  {
   "cell_type": "code",
   "execution_count": 78,
   "id": "f919d3fd-e119-4471-9e47-f600fa68a64b",
   "metadata": {},
   "outputs": [],
   "source": [
    "#Separating on a2k:\n",
    "a2k[\"gender\"] = a2k.gender_age.str[0]\n",
    "a2k[\"age\"] = a2k.gender_age.str[1:]\n",
    "ak2_age = []\n",
    "for x in a2k[\"age\"]:\n",
    "    if len(x) == 3:\n",
    "        y =x[0] + \"-\"+x[1:]\n",
    "        ak2_age.append(y)\n",
    "    elif len(x) == 4:\n",
    "        y = x[0:2] + \"-\"+x[2:]\n",
    "        ak2_age.append(y)\n",
    "    else:\n",
    "        ak2_age.append(x)\n",
    "a2k[\"age\"] = ak2_age"
   ]
  },
  {
   "cell_type": "code",
   "execution_count": 79,
   "id": "3db84cc2-ca5e-4ad5-a070-2b28a72b8bde",
   "metadata": {},
   "outputs": [],
   "source": [
    "#Separating on b2k:\n",
    "b2k[\"gender\"] = b2k.gender_age.str[0]\n",
    "b2k[\"age\"] = b2k.gender_age.str[1:]\n",
    "bk2_age = []\n",
    "for x in b2k[\"age\"]:\n",
    "    if len(x) == 3:\n",
    "        y =x[0] + \"-\"+x[1:]\n",
    "        bk2_age.append(y)\n",
    "    elif len(x) == 4:\n",
    "        y = x[0:2] + \"-\"+x[2:]\n",
    "        bk2_age.append(y)\n",
    "    else:\n",
    "        bk2_age.append(x)\n",
    "b2k[\"age\"] = bk2_age"
   ]
  },
  {
   "cell_type": "markdown",
   "id": "99e8f805-ea86-482d-8c7f-44c07839e460",
   "metadata": {},
   "source": [
    "7. Dropping columns"
   ]
  },
  {
   "cell_type": "code",
   "execution_count": 80,
   "id": "438536d6-5ea8-4a82-8130-8fa2c8542a0e",
   "metadata": {},
   "outputs": [],
   "source": [
    "a2k =a2k.drop(columns=[\"gender_age\",\"disease\"])\n",
    "b2k =b2k.drop(columns=[\"gender_age\",\"disease\"])"
   ]
  },
  {
   "cell_type": "markdown",
   "id": "60ae3723-fc61-420f-aca3-01790caa504b",
   "metadata": {},
   "source": [
    "8. Adding after column for the two dataframes"
   ]
  },
  {
   "cell_type": "code",
   "execution_count": 81,
   "id": "e5705095-2be9-404d-85ab-af153e4cf134",
   "metadata": {
    "scrolled": true
   },
   "outputs": [],
   "source": [
    "a2k[\"after\"] = [1 for x in range(len(a2k))]\n",
    "b2k[\"after\"] =[0 for x in range(len(b2k))]"
   ]
  },
  {
   "cell_type": "markdown",
   "id": "02b90557-f24b-4548-8d6a-787340f57ad0",
   "metadata": {},
   "source": [
    "9. appending on the two values"
   ]
  },
  {
   "cell_type": "code",
   "execution_count": 82,
   "id": "d4cc4235-303c-4532-997d-d38eee8c0208",
   "metadata": {
    "scrolled": true
   },
   "outputs": [],
   "source": [
    "df_ab =pd.concat([a2k,b2k])\n",
    "df_ab= df_ab.dropna(subset=[\"value\",\"iso2\",\"iso3\"])"
   ]
  },
  {
   "cell_type": "markdown",
   "id": "b6ebeb8a-0344-455b-b960-9d0928d64b4c",
   "metadata": {
    "scrolled": true
   },
   "source": [
    "10. Joining df_ab and master on iso2"
   ]
  },
  {
   "cell_type": "code",
   "execution_count": 83,
   "id": "a8b9110c-33fe-461c-8ee1-ee92a4195c5e",
   "metadata": {},
   "outputs": [],
   "source": [
    "df_abm = pd.merge(df_ab,df_mast, on =\"iso2\", how = \"left\").reset_index().drop(columns = [\"index\",\"iso2\",\"iso3_x\",\"iso3_y\"])"
   ]
  },
  {
   "cell_type": "markdown",
   "id": "f5b4ac7d-d8a6-4e6f-9c44-d61e52492f3c",
   "metadata": {},
   "source": [
    "11. Creating categorical for age groups"
   ]
  },
  {
   "cell_type": "code",
   "execution_count": 84,
   "id": "9bde90eb-55ff-48f1-b563-540adfe92913",
   "metadata": {},
   "outputs": [],
   "source": [
    "cat_list = [x for x in df_abm.age.unique()][::-1]\n",
    "df_abm[\"age\"]=pd.Categorical(df_abm[\"age\"],categories = cat_list, ordered = True)"
   ]
  },
  {
   "cell_type": "code",
   "execution_count": 85,
   "id": "888723b2-68f2-4085-90a5-ca281ea77fb9",
   "metadata": {
    "scrolled": true
   },
   "outputs": [
    {
     "data": {
      "text/html": [
       "<div>\n",
       "<style scoped>\n",
       "    .dataframe tbody tr th:only-of-type {\n",
       "        vertical-align: middle;\n",
       "    }\n",
       "\n",
       "    .dataframe tbody tr th {\n",
       "        vertical-align: top;\n",
       "    }\n",
       "\n",
       "    .dataframe thead th {\n",
       "        text-align: right;\n",
       "    }\n",
       "</style>\n",
       "<table border=\"1\" class=\"dataframe\">\n",
       "  <thead>\n",
       "    <tr style=\"text-align: right;\">\n",
       "      <th></th>\n",
       "      <th>year</th>\n",
       "      <th>value</th>\n",
       "      <th>disease_type</th>\n",
       "      <th>gender</th>\n",
       "      <th>age</th>\n",
       "      <th>after</th>\n",
       "      <th>country</th>\n",
       "    </tr>\n",
       "  </thead>\n",
       "  <tbody>\n",
       "    <tr>\n",
       "      <th>0</th>\n",
       "      <td>2000</td>\n",
       "      <td>52.0</td>\n",
       "      <td>new_sp</td>\n",
       "      <td>m</td>\n",
       "      <td>0-14</td>\n",
       "      <td>1</td>\n",
       "      <td>Afghanistan</td>\n",
       "    </tr>\n",
       "    <tr>\n",
       "      <th>1</th>\n",
       "      <td>2001</td>\n",
       "      <td>129.0</td>\n",
       "      <td>new_sp</td>\n",
       "      <td>m</td>\n",
       "      <td>0-14</td>\n",
       "      <td>1</td>\n",
       "      <td>Afghanistan</td>\n",
       "    </tr>\n",
       "    <tr>\n",
       "      <th>2</th>\n",
       "      <td>2002</td>\n",
       "      <td>90.0</td>\n",
       "      <td>new_sp</td>\n",
       "      <td>m</td>\n",
       "      <td>0-14</td>\n",
       "      <td>1</td>\n",
       "      <td>Afghanistan</td>\n",
       "    </tr>\n",
       "    <tr>\n",
       "      <th>3</th>\n",
       "      <td>2003</td>\n",
       "      <td>127.0</td>\n",
       "      <td>new_sp</td>\n",
       "      <td>m</td>\n",
       "      <td>0-14</td>\n",
       "      <td>1</td>\n",
       "      <td>Afghanistan</td>\n",
       "    </tr>\n",
       "    <tr>\n",
       "      <th>4</th>\n",
       "      <td>2004</td>\n",
       "      <td>139.0</td>\n",
       "      <td>new_sp</td>\n",
       "      <td>m</td>\n",
       "      <td>0-14</td>\n",
       "      <td>1</td>\n",
       "      <td>Afghanistan</td>\n",
       "    </tr>\n",
       "    <tr>\n",
       "      <th>...</th>\n",
       "      <td>...</td>\n",
       "      <td>...</td>\n",
       "      <td>...</td>\n",
       "      <td>...</td>\n",
       "      <td>...</td>\n",
       "      <td>...</td>\n",
       "      <td>...</td>\n",
       "    </tr>\n",
       "    <tr>\n",
       "      <th>78808</th>\n",
       "      <td>2000</td>\n",
       "      <td>4.0</td>\n",
       "      <td>new_ep</td>\n",
       "      <td>f</td>\n",
       "      <td>55-64</td>\n",
       "      <td>0</td>\n",
       "      <td>Switzerland</td>\n",
       "    </tr>\n",
       "    <tr>\n",
       "      <th>78809</th>\n",
       "      <td>1999</td>\n",
       "      <td>25.0</td>\n",
       "      <td>new_ep</td>\n",
       "      <td>f</td>\n",
       "      <td>65</td>\n",
       "      <td>0</td>\n",
       "      <td>Israel</td>\n",
       "    </tr>\n",
       "    <tr>\n",
       "      <th>78810</th>\n",
       "      <td>1999</td>\n",
       "      <td>16.0</td>\n",
       "      <td>new_ep</td>\n",
       "      <td>f</td>\n",
       "      <td>65</td>\n",
       "      <td>0</td>\n",
       "      <td>Switzerland</td>\n",
       "    </tr>\n",
       "    <tr>\n",
       "      <th>78811</th>\n",
       "      <td>2000</td>\n",
       "      <td>26.0</td>\n",
       "      <td>new_ep</td>\n",
       "      <td>f</td>\n",
       "      <td>65</td>\n",
       "      <td>0</td>\n",
       "      <td>Israel</td>\n",
       "    </tr>\n",
       "    <tr>\n",
       "      <th>78812</th>\n",
       "      <td>2000</td>\n",
       "      <td>12.0</td>\n",
       "      <td>new_ep</td>\n",
       "      <td>f</td>\n",
       "      <td>65</td>\n",
       "      <td>0</td>\n",
       "      <td>Switzerland</td>\n",
       "    </tr>\n",
       "  </tbody>\n",
       "</table>\n",
       "<p>78813 rows × 7 columns</p>\n",
       "</div>"
      ],
      "text/plain": [
       "       year  value disease_type gender    age  after      country\n",
       "0      2000   52.0       new_sp      m   0-14      1  Afghanistan\n",
       "1      2001  129.0       new_sp      m   0-14      1  Afghanistan\n",
       "2      2002   90.0       new_sp      m   0-14      1  Afghanistan\n",
       "3      2003  127.0       new_sp      m   0-14      1  Afghanistan\n",
       "4      2004  139.0       new_sp      m   0-14      1  Afghanistan\n",
       "...     ...    ...          ...    ...    ...    ...          ...\n",
       "78808  2000    4.0       new_ep      f  55-64      0  Switzerland\n",
       "78809  1999   25.0       new_ep      f     65      0       Israel\n",
       "78810  1999   16.0       new_ep      f     65      0  Switzerland\n",
       "78811  2000   26.0       new_ep      f     65      0       Israel\n",
       "78812  2000   12.0       new_ep      f     65      0  Switzerland\n",
       "\n",
       "[78813 rows x 7 columns]"
      ]
     },
     "execution_count": 85,
     "metadata": {},
     "output_type": "execute_result"
    }
   ],
   "source": [
    "df_abm"
   ]
  },
  {
   "cell_type": "markdown",
   "id": "013ed0ad-c5a6-4df7-bff7-b23fdb37e274",
   "metadata": {},
   "source": [
    "12. There are some diseases that are not used after certain ages:\n",
    "- new_sp_m014: Not used after 2012\n",
    "- new_sp_m1524 Not used after 2012\n",
    "- new_sn_m014: not used after 2012\n",
    "- newrel_f014: New and relapse cases (bu only new cases if rel_in_agesex_flg = 0): females aged 0-14 years\n",
    "- new_ep_f014: New extrepulmonary cases - Not used after 2012\n",
    "\n",
    "Then in the question we are to filter graph for Afganistan, Norway and India\n",
    "- Filter out countries"
   ]
  },
  {
   "cell_type": "markdown",
   "id": "57c211e0-4292-49eb-9ac0-795979c7fd08",
   "metadata": {},
   "source": [
    "12. a) filtered out for after 2012"
   ]
  },
  {
   "cell_type": "code",
   "execution_count": 86,
   "id": "9e4850f2-e206-4164-b0bf-0fcd1cb5ead9",
   "metadata": {},
   "outputs": [],
   "source": [
    "df_abm = df_abm[~(\n",
    "    ((df_abm['disease_type'] == \"new_sp\") & (df_abm['gender'] == \"m\") & (df_abm['age'] == \"0-14\") & (df_abm['year'] <= 2012)) |\n",
    "    ((df_abm['disease_type'] == \"new_sp\") & (df_abm['gender'] == \"m\") & (df_abm['age'] == \"15-24\") & (df_abm['year'] <= 2012)) |\n",
    "    ((df_abm['disease_type'] == \"new_sn\") & (df_abm['gender'] == \"m\") & (df_abm['age'] == \"0-14\") & (df_abm['year'] <= 2012)) |\n",
    "    ((df_abm['disease_type'] == \"new_ep\") & (df_abm['gender'] == \"f\") & (df_abm['age'] == \"0-14\") & (df_abm['year'] <= 2012)\n",
    "))]"
   ]
  },
  {
   "cell_type": "markdown",
   "id": "74aa9151-5af8-4bac-8705-9f809f02065e",
   "metadata": {},
   "source": [
    "12. b) filtered out for Afghanistan, Norway and India"
   ]
  },
  {
   "cell_type": "code",
   "execution_count": 87,
   "id": "2f373c8a-74d9-40c3-84f0-5870e088630d",
   "metadata": {},
   "outputs": [],
   "source": [
    "df_nai = df_abm[(df_abm.country ==\"Afghanistan\") |(df_abm.country ==\"Norway\") |(df_abm.country ==\"India\")]"
   ]
  },
  {
   "cell_type": "markdown",
   "id": "189da218-268b-46c0-94ce-6e5882f46799",
   "metadata": {},
   "source": [
    "### Write data to disease.csv ###"
   ]
  },
  {
   "cell_type": "code",
   "execution_count": 88,
   "id": "e3d8db89-5e7f-4956-a10c-184feec075a7",
   "metadata": {},
   "outputs": [],
   "source": [
    "df_nai.to_csv(\"C:\\\\Users\\\\tgsog\\\\OneDrive\\\\Desktop\\\\Visual Analytics\\\\Class exercise 28.10.2024 due\\\\Task 2\\\\outputfile\\\\diseases_nai.csv\", index=False)"
   ]
  },
  {
   "cell_type": "markdown",
   "id": "ea0efdc9-1a62-4d3d-beef-86a8b8356778",
   "metadata": {},
   "source": [
    "# Question 3: Weather data #"
   ]
  },
  {
   "cell_type": "markdown",
   "id": "fba75222-0ba8-4db3-952d-00a48d372ba2",
   "metadata": {},
   "source": [
    "Load data:"
   ]
  },
  {
   "cell_type": "code",
   "execution_count": 89,
   "id": "4cec7aec-964a-43e9-b034-b8108dbba7b6",
   "metadata": {},
   "outputs": [],
   "source": [
    "path_weather = \"C:\\\\Users\\\\tgsog\\\\OneDrive\\\\Desktop\\\\Visual Analytics\\\\Class exercise 28.10.2024 due\\\\Task 3\\\\weather.csv\"\n",
    "df_weather = pd.read_csv(path_weather)"
   ]
  },
  {
   "cell_type": "code",
   "execution_count": 90,
   "id": "84142778-dda3-4cce-b9a9-33d3db91dc39",
   "metadata": {
    "scrolled": true
   },
   "outputs": [],
   "source": [
    "df_w = pd.melt(df_weather, \n",
    "        id_vars = [\"Country\",\"year\",\"month\",\"element\"],\n",
    "        value_vars= df_weather[df_weather.columns[4:]],\n",
    "        var_name = \"day\",\n",
    "        value_name = \"temperature\")"
   ]
  },
  {
   "cell_type": "markdown",
   "id": "1c3ec268-6047-4ae2-a4ad-12380e85b2a9",
   "metadata": {},
   "source": [
    "## Steps to cleaning data:"
   ]
  },
  {
   "cell_type": "markdown",
   "id": "e36154f7-f77b-4920-82e2-5feced8836ed",
   "metadata": {},
   "source": [
    "1. Take away the d from day"
   ]
  },
  {
   "cell_type": "code",
   "execution_count": 91,
   "id": "88e90d99-e2c8-4f54-b869-d774456cf5a4",
   "metadata": {},
   "outputs": [],
   "source": [
    "df_w.day = df_w.day.str[1:]"
   ]
  },
  {
   "cell_type": "markdown",
   "id": "3b76600c-69b4-4f6d-a66c-818427f16f4d",
   "metadata": {},
   "source": [
    "2. Separate into t_max and t_min"
   ]
  },
  {
   "cell_type": "code",
   "execution_count": 92,
   "id": "c3c696cf-4701-4970-99d7-7bcad50d6a3a",
   "metadata": {},
   "outputs": [],
   "source": [
    "t_max =df_w[df_w.element == \"tmax\"]\n",
    "t_min = df_w[df_w.element == \"tmin\"]"
   ]
  },
  {
   "cell_type": "markdown",
   "id": "371bba52-2a7a-4c16-80b2-f26dcbec9487",
   "metadata": {},
   "source": [
    "2. Interpolate forwards and then fill backwards:"
   ]
  },
  {
   "cell_type": "code",
   "execution_count": 93,
   "id": "be890310-1d3e-4db7-bdf4-7ea7ca572dce",
   "metadata": {},
   "outputs": [],
   "source": [
    "t_max.loc[:,'temperature'] = t_max['temperature'].interpolate(method='linear').bfill()\n",
    "t_min.loc[:,'temperature'] = t_min['temperature'].interpolate(method='linear').bfill()"
   ]
  },
  {
   "cell_type": "code",
   "execution_count": 94,
   "id": "fd3b71dd-3c0f-4eaf-a144-16c7155c60ab",
   "metadata": {},
   "outputs": [
    {
     "data": {
      "text/plain": [
       "Country        0\n",
       "year           0\n",
       "month          0\n",
       "element        0\n",
       "day            0\n",
       "temperature    0\n",
       "dtype: int64"
      ]
     },
     "execution_count": 94,
     "metadata": {},
     "output_type": "execute_result"
    }
   ],
   "source": [
    "t_max.isna().sum() # check that ther are no NA values"
   ]
  },
  {
   "cell_type": "markdown",
   "id": "5157dd59-0a12-4d3c-8f3a-76789979b1d6",
   "metadata": {},
   "source": [
    "3. Set date components to integers"
   ]
  },
  {
   "cell_type": "code",
   "execution_count": 95,
   "id": "f6347a84-89ab-4ed0-b9ba-fbe73b01cb7b",
   "metadata": {
    "scrolled": true
   },
   "outputs": [],
   "source": [
    "t_min.loc[:,\"day\"] =t_min.loc[:,\"day\"].str.replace(\"d\",\"\")\n",
    "t_min.loc[:,\"day\"] = t_min.loc[:,\"day\"].astype(\"int\")\n",
    "t_min.loc[:,\"month\"] = t_min.loc[:,\"month\"].astype(\"int\")\n",
    "t_min.loc[:,\"year\"] = t_min.loc[:,\"year\"].astype(\"int\")"
   ]
  },
  {
   "cell_type": "code",
   "execution_count": 96,
   "id": "f6915c7d-8614-4377-81f2-dbc9c4807fdf",
   "metadata": {},
   "outputs": [],
   "source": [
    "t_max.loc[:,\"day\"] =t_max.loc[:,\"day\"].str.replace(\"d\",\"\")\n",
    "t_max.loc[:,\"day\"] = t_max.loc[:,\"day\"].astype(\"int\")\n",
    "t_max.loc[:,\"month\"] = t_max.loc[:,\"month\"].astype(\"int\")\n",
    "t_max.loc[:,\"year\"] = t_max.loc[:,\"year\"].astype(\"int\")"
   ]
  },
  {
   "cell_type": "markdown",
   "id": "89b9becf-ade6-4e33-8dc5-ffa3a2986286",
   "metadata": {},
   "source": [
    "4. There are too many days in each month - filter for days that do not exist in the months"
   ]
  },
  {
   "cell_type": "markdown",
   "id": "9b13419a-5fff-442a-b030-e41007dcd9f0",
   "metadata": {},
   "source": [
    "number of days in each month:\n",
    "- January: 31 days\n",
    "- February: 28 days (29 days in a leap year)\n",
    "- March: 31 days\n",
    "- April: 30 days\n",
    "- May: 31 days\n",
    "- June: 30 days\n",
    "- July: 31 days\n",
    "- August: 31 days\n",
    "- September: 30 days\n",
    "- October: 31 days\n",
    "- November: 30 days\n",
    "- December: 31 days"
   ]
  },
  {
   "cell_type": "code",
   "execution_count": 97,
   "id": "15911877-57fa-413c-ac1e-74571694d845",
   "metadata": {},
   "outputs": [],
   "source": [
    "#general datetime\n",
    "month = pd.Series([x for x in range(1,13,1)])\n",
    "month_days_max =pd.Series([31,28,31,30,31,30,31,31,30,31,30,31])\n",
    "datadf = pd.DataFrame()\n",
    "datadf[\"month\"] =month\n",
    "datadf[\"month_days_max\"] = month_days_max"
   ]
  },
  {
   "cell_type": "code",
   "execution_count": 98,
   "id": "1f00019b-84c8-4a88-af0b-cfeeb949b95c",
   "metadata": {
    "scrolled": true
   },
   "outputs": [],
   "source": [
    "t_min = pd.merge(t_min,datadf, how=\"left\",on =\"month\")\n",
    "t_min = t_min[t_min[\"day\"] <= t_min[\"month_days_max\"]]"
   ]
  },
  {
   "cell_type": "code",
   "execution_count": 99,
   "id": "4240dc9a-dac0-428a-8535-6d118185b061",
   "metadata": {},
   "outputs": [],
   "source": [
    "t_max =pd.merge(t_max,datadf, how=\"left\",on =\"month\")\n",
    "t_max = t_max[t_max[\"day\"] <= t_max[\"month_days_max\"]]"
   ]
  },
  {
   "cell_type": "code",
   "execution_count": 100,
   "id": "4cc624e2-85dd-4fce-a522-ab6c1b1f0d1d",
   "metadata": {},
   "outputs": [],
   "source": [
    "t_max[\"date\"] = pd.to_datetime(t_max[[\"day\",\"month\",\"year\"]])\n",
    "t_max =t_max.sort_values(by = [\"date\"])"
   ]
  },
  {
   "cell_type": "code",
   "execution_count": 101,
   "id": "6443351d-780c-4c36-a140-b0136fe11d6a",
   "metadata": {},
   "outputs": [],
   "source": [
    "t_min[\"date\"] = pd.to_datetime(t_min.loc[:,[\"day\",\"month\",\"year\"]])\n",
    "t_min =t_min.sort_values(by = [\"date\"])\n",
    "#does not work  -datetime\n",
    "t_max[\"date\"] = pd.to_datetime(t_max.loc[:,[\"day\",\"month\",\"year\"]])\n",
    "t_max =t_max.sort_values(by = [\"date\"])"
   ]
  },
  {
   "cell_type": "markdown",
   "id": "e61637ad-88c7-4344-9972-a23075feb12f",
   "metadata": {},
   "source": [
    "5. Rename columns and create a dataframe and input the max temperature"
   ]
  },
  {
   "cell_type": "code",
   "execution_count": 102,
   "id": "372ad416-8043-401e-9160-40d44d91f49b",
   "metadata": {
    "scrolled": true
   },
   "outputs": [],
   "source": [
    "t_min.columns = ['Country', 'year', 'month', 'element', 'day', 't_min',\n",
    "       'month_days_max', 'date']\n",
    "t_max.columns = ['Country', 'year', 'month', 'element', 'day', 't_max',\n",
    "       'month_days_max', 'date']\n",
    "df_t = t_min.drop(columns = [\"element\", \"month_days_max\"])\n",
    "df_t[\"t_max\"] = t_max.t_max\n",
    "df_t = df_t.loc[:,[\"Country\",\"year\",\"month\",\"day\",\"date\",\"t_min\",\"t_max\"]]"
   ]
  },
  {
   "cell_type": "code",
   "execution_count": 103,
   "id": "a428b4b7-000e-4d75-8b13-7bd114ae5f96",
   "metadata": {},
   "outputs": [
    {
     "data": {
      "text/html": [
       "<div>\n",
       "<style scoped>\n",
       "    .dataframe tbody tr th:only-of-type {\n",
       "        vertical-align: middle;\n",
       "    }\n",
       "\n",
       "    .dataframe tbody tr th {\n",
       "        vertical-align: top;\n",
       "    }\n",
       "\n",
       "    .dataframe thead th {\n",
       "        text-align: right;\n",
       "    }\n",
       "</style>\n",
       "<table border=\"1\" class=\"dataframe\">\n",
       "  <thead>\n",
       "    <tr style=\"text-align: right;\">\n",
       "      <th></th>\n",
       "      <th>Country</th>\n",
       "      <th>year</th>\n",
       "      <th>month</th>\n",
       "      <th>day</th>\n",
       "      <th>date</th>\n",
       "      <th>t_min</th>\n",
       "      <th>t_max</th>\n",
       "    </tr>\n",
       "  </thead>\n",
       "  <tbody>\n",
       "    <tr>\n",
       "      <th>0</th>\n",
       "      <td>India</td>\n",
       "      <td>2015</td>\n",
       "      <td>1</td>\n",
       "      <td>1</td>\n",
       "      <td>2015-01-01</td>\n",
       "      <td>13.800000</td>\n",
       "      <td>29.900000</td>\n",
       "    </tr>\n",
       "    <tr>\n",
       "      <th>11</th>\n",
       "      <td>India</td>\n",
       "      <td>2015</td>\n",
       "      <td>1</td>\n",
       "      <td>2</td>\n",
       "      <td>2015-01-02</td>\n",
       "      <td>14.100000</td>\n",
       "      <td>28.600000</td>\n",
       "    </tr>\n",
       "    <tr>\n",
       "      <th>22</th>\n",
       "      <td>India</td>\n",
       "      <td>2015</td>\n",
       "      <td>1</td>\n",
       "      <td>3</td>\n",
       "      <td>2015-01-03</td>\n",
       "      <td>15.033333</td>\n",
       "      <td>26.500000</td>\n",
       "    </tr>\n",
       "    <tr>\n",
       "      <th>33</th>\n",
       "      <td>India</td>\n",
       "      <td>2015</td>\n",
       "      <td>1</td>\n",
       "      <td>4</td>\n",
       "      <td>2015-01-04</td>\n",
       "      <td>15.535714</td>\n",
       "      <td>28.100000</td>\n",
       "    </tr>\n",
       "    <tr>\n",
       "      <th>44</th>\n",
       "      <td>India</td>\n",
       "      <td>2015</td>\n",
       "      <td>1</td>\n",
       "      <td>5</td>\n",
       "      <td>2015-01-05</td>\n",
       "      <td>13.100000</td>\n",
       "      <td>29.650000</td>\n",
       "    </tr>\n",
       "    <tr>\n",
       "      <th>...</th>\n",
       "      <td>...</td>\n",
       "      <td>...</td>\n",
       "      <td>...</td>\n",
       "      <td>...</td>\n",
       "      <td>...</td>\n",
       "      <td>...</td>\n",
       "      <td>...</td>\n",
       "    </tr>\n",
       "    <tr>\n",
       "      <th>296</th>\n",
       "      <td>India</td>\n",
       "      <td>2015</td>\n",
       "      <td>12</td>\n",
       "      <td>27</td>\n",
       "      <td>2015-12-27</td>\n",
       "      <td>14.280000</td>\n",
       "      <td>28.050000</td>\n",
       "    </tr>\n",
       "    <tr>\n",
       "      <th>307</th>\n",
       "      <td>India</td>\n",
       "      <td>2015</td>\n",
       "      <td>12</td>\n",
       "      <td>28</td>\n",
       "      <td>2015-12-28</td>\n",
       "      <td>15.750000</td>\n",
       "      <td>30.925000</td>\n",
       "    </tr>\n",
       "    <tr>\n",
       "      <th>318</th>\n",
       "      <td>India</td>\n",
       "      <td>2015</td>\n",
       "      <td>12</td>\n",
       "      <td>29</td>\n",
       "      <td>2015-12-29</td>\n",
       "      <td>14.700000</td>\n",
       "      <td>27.850000</td>\n",
       "    </tr>\n",
       "    <tr>\n",
       "      <th>329</th>\n",
       "      <td>India</td>\n",
       "      <td>2015</td>\n",
       "      <td>12</td>\n",
       "      <td>30</td>\n",
       "      <td>2015-12-30</td>\n",
       "      <td>15.000000</td>\n",
       "      <td>26.466667</td>\n",
       "    </tr>\n",
       "    <tr>\n",
       "      <th>340</th>\n",
       "      <td>India</td>\n",
       "      <td>2015</td>\n",
       "      <td>12</td>\n",
       "      <td>31</td>\n",
       "      <td>2015-12-31</td>\n",
       "      <td>15.400000</td>\n",
       "      <td>25.400000</td>\n",
       "    </tr>\n",
       "  </tbody>\n",
       "</table>\n",
       "<p>335 rows × 7 columns</p>\n",
       "</div>"
      ],
      "text/plain": [
       "    Country  year  month day       date      t_min      t_max\n",
       "0     India  2015      1   1 2015-01-01  13.800000  29.900000\n",
       "11    India  2015      1   2 2015-01-02  14.100000  28.600000\n",
       "22    India  2015      1   3 2015-01-03  15.033333  26.500000\n",
       "33    India  2015      1   4 2015-01-04  15.535714  28.100000\n",
       "44    India  2015      1   5 2015-01-05  13.100000  29.650000\n",
       "..      ...   ...    ...  ..        ...        ...        ...\n",
       "296   India  2015     12  27 2015-12-27  14.280000  28.050000\n",
       "307   India  2015     12  28 2015-12-28  15.750000  30.925000\n",
       "318   India  2015     12  29 2015-12-29  14.700000  27.850000\n",
       "329   India  2015     12  30 2015-12-30  15.000000  26.466667\n",
       "340   India  2015     12  31 2015-12-31  15.400000  25.400000\n",
       "\n",
       "[335 rows x 7 columns]"
      ]
     },
     "execution_count": 103,
     "metadata": {},
     "output_type": "execute_result"
    }
   ],
   "source": [
    "df_t"
   ]
  },
  {
   "cell_type": "markdown",
   "id": "0522c4cf-114b-4ac6-8ba4-42617681a285",
   "metadata": {},
   "source": [
    "write data into two dataframes  - t_max.csv and t_min.csv"
   ]
  },
  {
   "cell_type": "code",
   "execution_count": 104,
   "id": "4bb13acf-9a77-44d7-9442-fef224a52a9e",
   "metadata": {},
   "outputs": [],
   "source": [
    "t_max.to_csv(\"C:\\\\Users\\\\tgsog\\\\OneDrive\\\\Desktop\\\\Visual Analytics\\\\Class exercise 28.10.2024 due\\\\Task 3\\\\outputfile\\\\t_max.csv\", index=False)\n",
    "t_min.to_csv(\"C:\\\\Users\\\\tgsog\\\\OneDrive\\\\Desktop\\\\Visual Analytics\\\\Class exercise 28.10.2024 due\\\\Task 3\\\\outputfile\\\\t_min.csv\", index=False)\n",
    "df_t.to_csv(\"C:\\\\Users\\\\tgsog\\\\OneDrive\\\\Desktop\\\\Visual Analytics\\\\Class exercise 28.10.2024 due\\\\Task 3\\\\outputfile\\\\temp_df.csv\", index=False)"
   ]
  },
  {
   "cell_type": "code",
   "execution_count": null,
   "id": "4d7fde48-2b38-476e-ad00-563e4d3284fb",
   "metadata": {},
   "outputs": [],
   "source": []
  }
 ],
 "metadata": {
  "kernelspec": {
   "display_name": "Python 3 (ipykernel)",
   "language": "python",
   "name": "python3"
  },
  "language_info": {
   "codemirror_mode": {
    "name": "ipython",
    "version": 3
   },
   "file_extension": ".py",
   "mimetype": "text/x-python",
   "name": "python",
   "nbconvert_exporter": "python",
   "pygments_lexer": "ipython3",
   "version": "3.11.9"
  }
 },
 "nbformat": 4,
 "nbformat_minor": 5
}
